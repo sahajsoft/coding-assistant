{
 "cells": [
  {
   "cell_type": "code",
   "execution_count": 1,
   "metadata": {},
   "outputs": [],
   "source": [
    "import git\n",
    "import os\n",
    "repo_url = 'https://github.com/sahajsoft/Pravarthan'\n",
    "# clone the repo if it doesn't exist\n",
    "expanded_path = os.path.expanduser('~/Pravarthan')\n",
    "\n",
    "if not os.path.exists(expanded_path):\n",
    "    repo = git.Repo.clone_from(repo_url, expanded_path)\n",
    "else:\n",
    "    repo = git.Repo(expanded_path)    \n"
   ]
  },
  {
   "cell_type": "code",
   "execution_count": null,
   "metadata": {},
   "outputs": [],
   "source": [
    "from llama_index.core import VectorStoreIndex, Document\n",
    "from llama_index.core.node_parser import SentenceSplitter\n",
    "import chardet\n",
    "\n",
    "text = \"\"\n",
    "\n",
    "def read_file_contents(file_path):\n",
    "    with open(file_path, 'rb') as f:\n",
    "        raw_data = f.read()\n",
    "        result = chardet.detect(raw_data)\n",
    "        encoding = result['encoding']\n",
    "        if encoding:\n",
    "            try:\n",
    "                return raw_data.decode(encoding)\n",
    "            except UnicodeDecodeError:\n",
    "                print(f\"UnicodeDecodeError: Unable to decode file '{file_path}' with detected encoding '{encoding}'.\")\n",
    "                return None\n",
    "        else:\n",
    "            print(f\"Encoding detection failed for file '{file_path}'.\")\n",
    "            return None\n",
    "        \n",
    "for root, dirs, files in os.walk(expanded_path):\n",
    "    for file_name in files:\n",
    "        file_path = os.path.join(root, file_name)\n",
    "        # Read and print contents of each file\n",
    "        file_contents = read_file_contents(file_path)\n",
    "        if file_contents is not None:            \n",
    "            text+= file_contents\n",
    "            text+= \"\\n\"\n",
    "\n"
   ]
  },
  {
   "cell_type": "code",
   "execution_count": null,
   "metadata": {},
   "outputs": [],
   "source": [
    "nodes = []\n",
    "node_parser = SentenceSplitter(chunk_size=512, chunk_overlap=64)\n",
    "nodes = node_parser.get_nodes_from_documents(\n",
    "    [Document(text=text)], show_progress=True\n",
    ")"
   ]
  },
  {
   "cell_type": "code",
   "execution_count": null,
   "metadata": {},
   "outputs": [],
   "source": [
    "import weaviate\n",
    "import weaviate.classes.config as wc\n",
    "import weaviate.classes as wvc\n",
    "\n",
    "from InstructorEmbedding import INSTRUCTOR\n",
    "model = INSTRUCTOR('hkunlp/instructor-xl')\n",
    "\n",
    "def embeddings(text):\n",
    "    return model.encode(text)\n",
    "\n",
    "\n",
    "client = weaviate.connect_to_local()\n",
    "\n",
    "if not client.collections.exists(name = 'code_embeddings'):\n",
    "    client.collections.create(name = 'code_embeddings')"
   ]
  },
  {
   "cell_type": "code",
   "execution_count": 7,
   "metadata": {},
   "outputs": [
    {
     "name": "stdout",
     "output_type": "stream",
     "text": [
      "5679\n"
     ]
    }
   ],
   "source": []
  },
  {
   "cell_type": "code",
   "execution_count": null,
   "metadata": {},
   "outputs": [],
   "source": [
    "from weaviate.classes.query import Filter\n",
    "from weaviate.classes.config import Property, DataType\n",
    "\n",
    "collection = client.collections.get('code_embeddings')\n",
    "weaviate_docs = []\n",
    "print('Preparing Weaviate docs...')\n",
    "\n",
    "for index, node in enumerate(nodes):\n",
    "    weaviate_doc = wvc.data.DataObject(\n",
    "        properties={\n",
    "            'message': node.text,\n",
    "        },\n",
    "        vector=list(embeddings(node.text))\n",
    "    )\n",
    "    weaviate_docs.append(weaviate_doc)\n",
    "    print(index)\n",
    "        \n"
   ]
  },
  {
   "cell_type": "code",
   "execution_count": null,
   "metadata": {},
   "outputs": [],
   "source": [
    "collection.data.insert_many(weaviate_docs)"
   ]
  },
  {
   "cell_type": "code",
   "execution_count": null,
   "metadata": {},
   "outputs": [],
   "source": [
    "retrieved_docs = collection.query.near_vector(\n",
    "    near_vector=list(embeddings('''When a user changes the work status, the data must be logged in the system. The data to be stored must include the following:\n",
    "\n",
    "Who changed the status\n",
    "When was the change made\n",
    "What is the change made''')),\n",
    "    limit=15,\n",
    "    return_metadata=wvc.query.MetadataQuery(certainty=True)\n",
    "\n",
    ")\n",
    "\n",
    "retrieved_messages = [o.properties['message'] for o in retrieved_docs.objects]\n",
    "\n",
    "\n",
    "print(retrieved_messages)"
   ]
  }
 ],
 "metadata": {
  "kernelspec": {
   "display_name": "coding-assistant-E5Ppnv33-py3.10",
   "language": "python",
   "name": "python3"
  },
  "language_info": {
   "codemirror_mode": {
    "name": "ipython",
    "version": 3
   },
   "file_extension": ".py",
   "mimetype": "text/x-python",
   "name": "python",
   "nbconvert_exporter": "python",
   "pygments_lexer": "ipython3",
   "version": "3.10.12"
  }
 },
 "nbformat": 4,
 "nbformat_minor": 2
}
