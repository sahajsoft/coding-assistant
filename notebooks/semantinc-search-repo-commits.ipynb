{
 "cells": [
  {
   "cell_type": "code",
   "execution_count": 1,
   "metadata": {},
   "outputs": [],
   "source": [
    "import git\n",
    "import os\n",
    "repo_url = 'https://github.com/sahajsoft/Pravarthan'\n",
    "# clone the repo if it doesn't exist\n",
    "expanded_path = os.path.expanduser('~/Pravarthan')\n",
    "\n",
    "if not os.path.exists(expanded_path):\n",
    "    repo = git.Repo.clone_from(repo_url, expanded_path)\n",
    "else:\n",
    "    repo = git.Repo(expanded_path)    \n"
   ]
  },
  {
   "cell_type": "code",
   "execution_count": 2,
   "metadata": {},
   "outputs": [],
   "source": [
    "from llama_index.core import VectorStoreIndex, Document\n",
    "\n",
    "commits = list(repo.iter_commits('master'))\n",
    "documents = [{'message': commit.message, 'files': commit.stats.files, 'sha': commit.hexsha} for commit in commits]\n"
   ]
  },
  {
   "cell_type": "code",
   "execution_count": null,
   "metadata": {},
   "outputs": [],
   "source": [
    "from sentence_transformers import SentenceTransformer\n",
    "import weaviate\n",
    "import weaviate.classes.config as wc\n",
    "import weaviate.classes as wvc\n",
    "\n",
    "model = SentenceTransformer('BAAI/bge-small-en-v1.5')\n",
    "\n",
    "def embeddings(text):\n",
    "    return model.encode(text)\n",
    "\n",
    "\n",
    "client = weaviate.connect_to_local()\n",
    "if not client.collections.exists(name = 'commit_embeddings'):\n",
    "    client.collections.create(name = 'commit_embeddings')\n"
   ]
  },
  {
   "cell_type": "code",
   "execution_count": null,
   "metadata": {},
   "outputs": [],
   "source": []
  },
  {
   "cell_type": "code",
   "execution_count": null,
   "metadata": {},
   "outputs": [],
   "source": [
    "from weaviate.classes.query import Filter\n",
    "from weaviate.classes.config import Property, DataType\n",
    "\n",
    "collection = client.collections.get('code_embeddings')\n",
    "weaviate_docs = []\n",
    "print('Preparing Weaviate docs...')\n"
   ]
  },
  {
   "cell_type": "code",
   "execution_count": 55,
   "metadata": {},
   "outputs": [],
   "source": [
    "map_embeddings = {}\n",
    "for index, doc in enumerate(documents):\n",
    "    sha = doc['sha']\n",
    "    map_embeddings[sha] = embeddings(doc['message'])\n"
   ]
  },
  {
   "cell_type": "code",
   "execution_count": 85,
   "metadata": {},
   "outputs": [],
   "source": [
    "weaviate_docs= []\n",
    "for index, doc in enumerate(documents):\n",
    "    weaviate_doc = wvc.data.DataObject(\n",
    "        properties={\n",
    "            'sha': doc['sha'],\n",
    "            'affected_files': list(doc['files'].keys()),\n",
    "            'message': doc['message']\n",
    "        },\n",
    "        vector=list(map_embeddings[doc['sha']])\n",
    "    )\n",
    "    weaviate_docs.append(weaviate_doc)\n"
   ]
  },
  {
   "cell_type": "code",
   "execution_count": null,
   "metadata": {},
   "outputs": [],
   "source": [
    "collection.data.insert_many(weaviate_docs)"
   ]
  },
  {
   "cell_type": "code",
   "execution_count": null,
   "metadata": {},
   "outputs": [],
   "source": [
    "retrieved_docs = collection.query.near_vector(\n",
    "    near_vector=list(embeddings('fine me places where the work_status changed ')),\n",
    "    limit=5,\n",
    "    return_metadata=wvc.query.MetadataQuery(certainty=True)\n",
    "\n",
    ")\n",
    "\n",
    "retrieved_messages = [o.properties['message'] for o in retrieved_docs.objects]\n",
    "\n",
    "print(retrieved_messages)\n"
   ]
  },
  {
   "cell_type": "code",
   "execution_count": 104,
   "metadata": {},
   "outputs": [],
   "source": [
    "def generate_commit_prompt(retrieved_doc, query):\n",
    "    prompt_template = \"here is the user query {}:\\n\\n\".format(query)\n",
    "    prompt_template += \"Here are the commit details help me by suggesting where i need to make change and what change :\\n\\n\"\n",
    "    \n",
    "    prompt_template += f\"Commit Message: {retrieved_doc['message']}\\n\"\n",
    "    prompt_template += \"Affected Files:\\n\"\n",
    "    for file in ob['affected_files']:\n",
    "        prompt_template += f\"  - {file}\\n\"\n",
    "        prompt_template += \"    Content:\\n\"\n",
    "        prompt_template += f\"{repo.git.show('{}:{}'.format(retrieved_doc['sha'], file))}\\n\\n\"\n",
    "\n",
    "    return prompt_template"
   ]
  },
  {
   "cell_type": "code",
   "execution_count": null,
   "metadata": {},
   "outputs": [],
   "source": [
    "print(generate_commit_prompt(retrieved_docs[2].object, ''' When a user changes the work status, the data must be logged in the system. The data to be stored must include the following:\n",
    "\n",
    "Who changed the status\n",
    "When was the change made\n",
    "What is the change made\n",
    "'''))"
   ]
  }
 ],
 "metadata": {
  "kernelspec": {
   "display_name": "Python 3 (ipykernel)",
   "language": "python",
   "name": "python3"
  },
  "language_info": {
   "codemirror_mode": {
    "name": "ipython",
    "version": 3
   },
   "file_extension": ".py",
   "mimetype": "text/x-python",
   "name": "python",
   "nbconvert_exporter": "python",
   "pygments_lexer": "ipython3",
   "version": "3.12.4"
  }
 },
 "nbformat": 4,
 "nbformat_minor": 4
}
