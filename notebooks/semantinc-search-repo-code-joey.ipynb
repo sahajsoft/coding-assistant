{
 "cells": [
  {
   "cell_type": "code",
   "execution_count": 1,
   "metadata": {},
   "outputs": [],
   "source": [
    "import git\n",
    "import os\n",
    "repo_url = 'https://github.com/sahajsoft/Pravarthan'\n",
    "# clone the repo if it doesn't exist\n",
    "expanded_path = os.path.expanduser('~/Pravarthan')\n",
    "\n",
    "if not os.path.exists(expanded_path):\n",
    "    repo = git.Repo.clone_from(repo_url, expanded_path)\n",
    "else:\n",
    "    repo = git.Repo(expanded_path)    \n"
   ]
  },
  {
   "cell_type": "code",
   "execution_count": 2,
   "metadata": {},
   "outputs": [
    {
     "name": "stdout",
     "output_type": "stream",
     "text": [
      "Progress: 1029/1029 | Scanning: /Users/joey/Pravarthan/base/templates/base/contract_list.html                                        \n",
      "The following number of files with the specified file extensions were ignored: \n",
      ".xlsx: 8\n",
      ": 9\n",
      ".baseimage: 1\n",
      ".png: 27\n",
      ".py: 51\n",
      ".gif: 51\n",
      ".woff: 9\n",
      ".eot: 6\n",
      ".woff2: 5\n",
      ".ttf: 22\n",
      ".svg: 26\n",
      ".conf: 4\n",
      ".swp: 1\n",
      ".py~HEAD: 1\n",
      ".2020-01-01: 1\n",
      ".ico: 1\n",
      ".csv: 3\n"
     ]
    }
   ],
   "source": [
    "from llama_index.core import VectorStoreIndex, Document\n",
    "from llama_index.core.node_parser import SentenceSplitter\n",
    "import chardet\n",
    "import os\n",
    "from pygments.lexers import guess_lexer_for_filename\n",
    "from pygments.util import ClassNotFound\n",
    "import sys\n",
    "sys.path.append(\"..\")\n",
    "\n",
    "from libraries.utils.io import scan_dir\n",
    "\n",
    "# Recursively scan the directory and return\n",
    "# a dictionary of valid script files along with\n",
    "# their programming language\n",
    "language_map = scan_dir(expanded_path, verbose=True, ignoreFileExt=[\".csv\"])"
   ]
  },
  {
   "cell_type": "code",
   "execution_count": 3,
   "metadata": {
    "scrolled": true
   },
   "outputs": [
    {
     "name": "stdout",
     "output_type": "stream",
     "text": [
      "The following languages were detected with their respective file counts\n",
      "\n",
      "Bash: 11\n",
      "Python: 494\n",
      "Text only: 17\n",
      "YAML: 9\n",
      "Docker: 1\n",
      "Markdown: 2\n",
      "INI: 2\n",
      "CSS: 38\n",
      "SCSS: 4\n",
      "LessCss: 4\n",
      "JavaScript: 78\n",
      "HTML: 131\n",
      "Systemd: 3\n",
      "JSON: 10\n",
      "Transact-SQL: 3\n"
     ]
    }
   ],
   "source": [
    "from libraries.utils.helpers import get_formatted_dict_key_counts\n",
    "\n",
    "print(\"The following languages were detected with their respective file counts\")\n",
    "print(get_formatted_dict_key_counts(language_map))"
   ]
  },
  {
   "cell_type": "code",
   "execution_count": 4,
   "metadata": {},
   "outputs": [
    {
     "ename": "ModuleNotFoundError",
     "evalue": "No module named 'libraries.llama_helpers'",
     "output_type": "error",
     "traceback": [
      "\u001b[0;31m---------------------------------------------------------------------------\u001b[0m",
      "\u001b[0;31mModuleNotFoundError\u001b[0m                       Traceback (most recent call last)",
      "Cell \u001b[0;32mIn[4], line 1\u001b[0m\n\u001b[0;32m----> 1\u001b[0m \u001b[38;5;28;01mfrom\u001b[39;00m \u001b[38;5;21;01mlibraries\u001b[39;00m\u001b[38;5;21;01m.\u001b[39;00m\u001b[38;5;21;01mllama_helpers\u001b[39;00m\u001b[38;5;21;01m.\u001b[39;00m\u001b[38;5;21;01mcode_splitter\u001b[39;00m \u001b[38;5;28;01mimport\u001b[39;00m get_language_variable_code_splitters\n\u001b[1;32m      3\u001b[0m node_parsers \u001b[38;5;241m=\u001b[39m get_language_variable_code_splitters(language_map\u001b[38;5;241m.\u001b[39mkeys())\n\u001b[1;32m      5\u001b[0m \u001b[38;5;66;03m# \u001b[39;00m\n",
      "\u001b[0;31mModuleNotFoundError\u001b[0m: No module named 'libraries.llama_helpers'"
     ]
    }
   ],
   "source": [
    "from libraries.llama_helpers.code_splitter import get_language_variable_code_splitters\n",
    "\n",
    "node_parsers = get_language_variable_code_splitters(language_map.keys())\n",
    "\n",
    "# \n",
    "trimmed_language_map = {key: val for key, val in node_parsers.items()}\n",
    "\n",
    "print(node_parsers.keys())\n",
    "print(trimmed_language_map.keys())\n",
    "\n",
    "class GenericParser:\n",
    "    def __init__(parsers):\n",
    "        self.parsers = parsers\n",
    "\n",
    "# print(help(CodeSplitter))\n",
    "\n",
    "# nodes = []\n",
    "\n",
    "# node_parser = CodeSplitter(language=\"python\", chunk_lines = 100, chunk_lines_overlap = 15, max_chars = 1500)\n",
    "# split_text = node_parser.split_text(text)\n",
    "# # print(dir(node_parser))\n",
    "# print(help(node_parser.get_nodes_from_documents))\n",
    "# nodes = node_parser.get_nodes_from_documents(\n",
    "#     [Document(text=text)], show_progress=True\n",
    "# )"
   ]
  },
  {
   "cell_type": "code",
   "execution_count": 9,
   "metadata": {},
   "outputs": [
    {
     "name": "stdout",
     "output_type": "stream",
     "text": [
      "2316\n",
      "import os, django\n",
      "\n",
      "os.environ.setdefault(\"DJANGO_SETTINGS_MODULE\", \"SahajIntranet.settings\")\n",
      "django.setup()\n",
      "\n",
      "from openpyxl import load_workbook\n",
      "import sys\n",
      "from people.models import Member\n",
      "from projects.models import Project\n",
      "from timesheet.models import TimeCell, TimeCellRow\n",
      "\n",
      "import pandas as pd\n",
      "from datetime import datetime\n",
      "\n",
      "time_row = {}\n",
      "Node ID: 07173f6a-d8a5-4c79-abf0-432c1bd731ad\n",
      "Text: import os, django\n",
      "os.environ.setdefault(\"DJANGO_SETTINGS_MODULE\",\n",
      "\"SahajIntranet.settings\") django.setup()  from openpyxl import\n",
      "load_workbook import sys from people.models import Member from\n",
      "projects.models import Project from timesheet.models import TimeCell,\n",
      "TimeCellRow  import pandas as pd from datetime import datetime\n",
      "time_row = {}\n"
     ]
    }
   ],
   "source": [
    "print(len(split_text))\n",
    "print(split_text[0])\n",
    "print(nodes[0])"
   ]
  },
  {
   "cell_type": "code",
   "execution_count": 10,
   "metadata": {},
   "outputs": [
    {
     "name": "stdout",
     "output_type": "stream",
     "text": [
      "Loading... 1.2953367875647668%%failed to generate embedding for APP_ENV == RUNNER:\n",
      "    # general settings\n",
      "    DEBUG = True\n",
      "    ADMINS = (('Administrator', 'rohiban@gmail.com'),)\n",
      "    MANAGERS = ADMINS\n",
      "    BASE_URL = 'https://qa-internal.sahaj.ai'\n",
      "\n",
      "    # cookies\n",
      "    CSRF_COOKIE_SECURE = True\n",
      "    CSRF_COOKIE_HTTPONLY = True\n",
      "\n",
      "    X_FRAME_OPTIONS = 'DENY'\n",
      "\n",
      "    # security settings\n",
      "    ALLOWED_HOSTS = ['.sahaj.ai']\n",
      "    SECRET_KEY = env.str('SECRET_KEY')\n",
      "\n",
      "    # to check the validity of the authtoken\n",
      "    TOKEN_VALIDATE_API_ENDPOINT = 'https://pravarthan.sahaj.ai/api/v1/decode'\n",
      "    TOKEN_VALIDATE_SECRET = env.str('TOKEN_VALIDATE_SECRET')\n",
      "    SYSTEM_TOKEN = env.str('SYSTEM_TOKEN')\n",
      "    # database settings\n",
      "    # https://docs.djangoproject.com/en/1.8/ref/settings/#databases\n",
      "    DATABASES = {\n",
      "        'default': {\n",
      "            'ENGINE': 'django.db.backends.postgresql_psycopg2',\n",
      "            'NAME': env.str('POSTGRES_DB'),\n",
      "            'USER': env.str('POSTGRES_USER'),\n",
      "            'PASSWORD': env.str('DB_PASSWORD'),\n",
      "            'HOST': env.str('DB_HOST'),\n",
      "            'PORT': env.str('DB_PORT'),\n",
      "        }\n",
      "    }\n",
      "\n",
      "    # Google Drive folders' ids\n",
      "    GDRIVE_INVOICE_FOLDER = '0B3xNiF0o2ClQTlRnTVE4aDhCODg'\n",
      "    GDRIVE_CONTRACT_FOLDER = '0B3xNiF0o2ClQRWFwaW4ydUR6NUE'\n",
      "\n",
      "    # PDF generator - libreoffice\n",
      "    PDF_CONVERTOR_COMMAND = 'unoconv'\n",
      "    PDF_CONVERTOR_CONNECTION = ''\n",
      "    PDF_CONVERTOR_PARAMS = ['--format=pdf', '--output']\n",
      "\n",
      "    ALLOW_INTERACTION_WITH_GOOGLE = False\n",
      "\n",
      "    SERVICE_ACCOUNT_KEY_LOCATION = None\n",
      "\n",
      "# following settings are for Production environment\n",
      "if A: failed to generate embedding\n"
     ]
    },
    {
     "ename": "UnboundLocalError",
     "evalue": "cannot access local variable 'response' where it is not associated with a value",
     "output_type": "error",
     "traceback": [
      "\u001b[0;31m---------------------------------------------------------------------------\u001b[0m",
      "\u001b[0;31mUnboundLocalError\u001b[0m                         Traceback (most recent call last)",
      "Cell \u001b[0;32mIn[10], line 40\u001b[0m\n\u001b[1;32m     33\u001b[0m embeddings \u001b[38;5;241m=\u001b[39m []\n\u001b[1;32m     35\u001b[0m \u001b[38;5;28;01mfor\u001b[39;00m i, value \u001b[38;5;129;01min\u001b[39;00m \u001b[38;5;28menumerate\u001b[39m(split_text):\n\u001b[1;32m     36\u001b[0m     embedding_i \u001b[38;5;241m=\u001b[39m wvc\u001b[38;5;241m.\u001b[39mdata\u001b[38;5;241m.\u001b[39mDataObject(\n\u001b[1;32m     37\u001b[0m         properties\u001b[38;5;241m=\u001b[39m{\n\u001b[1;32m     38\u001b[0m             \u001b[38;5;124m'\u001b[39m\u001b[38;5;124mmessage\u001b[39m\u001b[38;5;124m'\u001b[39m: value,\n\u001b[1;32m     39\u001b[0m         },\n\u001b[0;32m---> 40\u001b[0m         vector\u001b[38;5;241m=\u001b[39m\u001b[38;5;28mlist\u001b[39m(\u001b[43mgen_embeddings\u001b[49m\u001b[43m(\u001b[49m\u001b[43mvalue\u001b[49m\u001b[43m)\u001b[49m)\n\u001b[1;32m     41\u001b[0m     )\n\u001b[1;32m     42\u001b[0m     embeddings\u001b[38;5;241m.\u001b[39mappend(embedding_i)\n\u001b[1;32m     43\u001b[0m     \u001b[38;5;66;03m# Print the loading percentage\u001b[39;00m\n",
      "Cell \u001b[0;32mIn[10], line 30\u001b[0m, in \u001b[0;36mgen_embeddings\u001b[0;34m(value)\u001b[0m\n\u001b[1;32m     28\u001b[0m \u001b[38;5;28;01mexcept\u001b[39;00m \u001b[38;5;167;01mException\u001b[39;00m \u001b[38;5;28;01mas\u001b[39;00m e:\n\u001b[1;32m     29\u001b[0m     \u001b[38;5;28mprint\u001b[39m(\u001b[38;5;124mf\u001b[39m\u001b[38;5;124m\"\u001b[39m\u001b[38;5;124mfailed to generate embedding for \u001b[39m\u001b[38;5;132;01m{\u001b[39;00mvalue\u001b[38;5;132;01m}\u001b[39;00m\u001b[38;5;124m: \u001b[39m\u001b[38;5;132;01m{\u001b[39;00me\u001b[38;5;132;01m}\u001b[39;00m\u001b[38;5;124m\"\u001b[39m)\n\u001b[0;32m---> 30\u001b[0m embedding \u001b[38;5;241m=\u001b[39m \u001b[43mresponse\u001b[49m[\u001b[38;5;124m\"\u001b[39m\u001b[38;5;124membedding\u001b[39m\u001b[38;5;124m\"\u001b[39m]\n\u001b[1;32m     31\u001b[0m \u001b[38;5;28;01mreturn\u001b[39;00m embedding\n",
      "\u001b[0;31mUnboundLocalError\u001b[0m: cannot access local variable 'response' where it is not associated with a value"
     ]
    }
   ],
   "source": [
    "import ollama\n",
    "import weaviate\n",
    "import weaviate.classes.config as wc\n",
    "import weaviate.classes as wvc\n",
    "import sys\n",
    "\n",
    "embedding_model = \"nomic-embed-text\"\n",
    "\n",
    "client = weaviate.connect_to_local()\n",
    "\n",
    "if not client.collections.exists(name = 'test'):\n",
    "    client.collections.create(name = 'test')\n",
    "\n",
    "collection = client.collections.get('test')\n",
    "\n",
    "# class_obj = {\"class\": \"DocumentSearch\", \"vectorizer\": \"none\"}\n",
    "# client.schema.create_class(class_obj)\n",
    "\n",
    "\"\"\"\n",
    "A schema is defined, creating a custom class named “DocumentSearch”. This specific name doesn’t matter, \n",
    "but acts as an identifier for Weaviate, as you’ll see how we reference it later. \n",
    "The vectorizer is set to “none” since the vectorization is done externally using our embedding model.\n",
    "\"\"\"\n",
    "\n",
    "def gen_embeddings(value):\n",
    "    try:\n",
    "        response = ollama.embeddings(model=embedding_model, prompt=value)\n",
    "    except Exception as e:\n",
    "        print(f\"failed to generate embedding for {value}: {e}\")\n",
    "    embedding = response[\"embedding\"]\n",
    "    return embedding\n",
    "\n",
    "embeddings = []\n",
    "\n",
    "for i, value in enumerate(split_text):\n",
    "    embedding_i = wvc.data.DataObject(\n",
    "        properties={\n",
    "            'message': value,\n",
    "        },\n",
    "        vector=list(gen_embeddings(value))\n",
    "    )\n",
    "    embeddings.append(embedding_i)\n",
    "    # Print the loading percentage\n",
    "    print(f\"\\rLoading... {(i+1)*100/len(split_text)}%\", end=\"\")\n",
    "    # Flush the output buffer to ensure the text is printed immediately\n",
    "    sys.stdout.flush()\n",
    "\n"
   ]
  },
  {
   "cell_type": "code",
   "execution_count": null,
   "metadata": {},
   "outputs": [],
   "source": [
    "print(client.is_ready())\n",
    "print(client.is_connected())\n",
    "print(dir(client))\n",
    "\n",
    "print(help(collection.data.insert_many))\n",
    "collection.data.insert_many(embeddings)\n"
   ]
  },
  {
   "cell_type": "code",
   "execution_count": null,
   "metadata": {},
   "outputs": [],
   "source": [
    "retrieved_docs = collection.query.near_vector(\n",
    "    near_vector=gen_embeddings('''How can I get all active members'''),\n",
    "    limit=15,\n",
    "    return_metadata=wvc.query.MetadataQuery(certainty=True)\n",
    ")\n",
    "\n",
    "retrieved_messages = [o.properties['message'] for o in retrieved_docs.objects]\n",
    "\n",
    "[print(f\"{i}\\n\\n\") for i in retrieved_messages]\n",
    "\n",
    "print(retrieved_messages[11])"
   ]
  },
  {
   "cell_type": "code",
   "execution_count": null,
   "metadata": {},
   "outputs": [],
   "source": []
  },
  {
   "cell_type": "code",
   "execution_count": null,
   "metadata": {},
   "outputs": [],
   "source": []
  }
 ],
 "metadata": {
  "kernelspec": {
   "display_name": "Python 3 (ipykernel)",
   "language": "python",
   "name": "python3"
  },
  "language_info": {
   "codemirror_mode": {
    "name": "ipython",
    "version": 3
   },
   "file_extension": ".py",
   "mimetype": "text/x-python",
   "name": "python",
   "nbconvert_exporter": "python",
   "pygments_lexer": "ipython3",
   "version": "3.12.4"
  }
 },
 "nbformat": 4,
 "nbformat_minor": 4
}
