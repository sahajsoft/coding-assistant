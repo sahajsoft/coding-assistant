{
 "cells": [
  {
   "cell_type": "code",
   "execution_count": 1,
   "metadata": {},
   "outputs": [],
   "source": [
    "import git\n",
    "import os\n",
    "repo_url = 'https://github.com/sahajsoft/Pravarthan'\n",
    "# clone the repo if it doesn't exist\n",
    "expanded_path = os.path.expanduser('~/Pravarthan')\n",
    "\n",
    "if not os.path.exists(expanded_path):\n",
    "    repo = git.Repo.clone_from(repo_url, expanded_path)\n",
    "else:\n",
    "    repo = git.Repo(expanded_path)    \n"
   ]
  },
  {
   "cell_type": "code",
   "execution_count": 2,
   "metadata": {},
   "outputs": [
    {
     "name": "stdout",
     "output_type": "stream",
     "text": [
      "Progress: 1032/1032 | Scanning: /Users/joey/Pravarthan/base/templates/base/contract_list.html                                        \n",
      "The following number of files with the specified file extensions were ignored: \n",
      ".xlsx: 8\n",
      ": 9\n",
      ".baseimage: 1\n",
      ".png: 27\n",
      ".py: 51\n",
      ".gif: 51\n",
      ".woff: 9\n",
      ".eot: 6\n",
      ".woff2: 5\n",
      ".ttf: 22\n",
      ".svg: 26\n",
      ".conf: 4\n",
      ".swp: 1\n",
      ".py~HEAD: 1\n",
      ".2020-01-01: 1\n",
      ".ico: 1\n",
      ".csv: 3\n"
     ]
    }
   ],
   "source": [
    "from llama_index.core import VectorStoreIndex, Document\n",
    "from llama_index.core.node_parser import SentenceSplitter\n",
    "import chardet\n",
    "import os\n",
    "from pygments.lexers import guess_lexer_for_filename\n",
    "from pygments.util import ClassNotFound\n",
    "import sys\n",
    "sys.path.append(\"..\")\n",
    "\n",
    "from libraries.utils.io import scan_dir\n",
    "\n",
    "# Recursively scan the directory and return\n",
    "# a dictionary of valid script files along with\n",
    "# their programming language\n",
    "language_map = scan_dir(expanded_path, verbose=True)"
   ]
  },
  {
   "cell_type": "code",
   "execution_count": 3,
   "metadata": {
    "scrolled": true
   },
   "outputs": [
    {
     "name": "stdout",
     "output_type": "stream",
     "text": [
      "The following languages were detected with their respective file counts\n",
      "\n",
      "Bash: 11\n",
      "Python: 494\n",
      "Text only: 17\n",
      "YAML: 9\n",
      "Docker: 1\n",
      "Markdown: 2\n",
      "INI: 2\n",
      "CSS: 38\n",
      "SCSS: 4\n",
      "LessCss: 4\n",
      "JavaScript: 78\n",
      "HTML: 131\n",
      "Systemd: 3\n",
      "JSON: 10\n",
      "Transact-SQL: 3\n"
     ]
    }
   ],
   "source": [
    "from libraries.utils.helpers import get_formatted_dict_key_counts\n",
    "\n",
    "print(\"The following languages were detected with their respective file counts\")\n",
    "print(get_formatted_dict_key_counts(language_map))"
   ]
  },
  {
   "cell_type": "code",
   "execution_count": 4,
   "metadata": {},
   "outputs": [
    {
     "name": "stdout",
     "output_type": "stream",
     "text": [
      "Could not get parser for language text only. Check https://github.com/grantjenks/py-tree-sitter-languages#license for a list of valid languages.\n",
      "Could not get parser for language docker. Check https://github.com/grantjenks/py-tree-sitter-languages#license for a list of valid languages.\n",
      "Could not get parser for language ini. Check https://github.com/grantjenks/py-tree-sitter-languages#license for a list of valid languages.\n",
      "Could not get parser for language scss. Check https://github.com/grantjenks/py-tree-sitter-languages#license for a list of valid languages.\n",
      "Could not get parser for language lesscss. Check https://github.com/grantjenks/py-tree-sitter-languages#license for a list of valid languages.\n",
      "Could not get parser for language systemd. Check https://github.com/grantjenks/py-tree-sitter-languages#license for a list of valid languages.\n",
      "Could not get parser for language transact-sql. Check https://github.com/grantjenks/py-tree-sitter-languages#license for a list of valid languages.\n",
      "Will create nodes for the following languages: dict_keys(['Bash', 'Python', 'YAML', 'Markdown', 'CSS', 'JavaScript', 'HTML', 'JSON'])\n",
      "Getting nodes for Bash: 11 files\n",
      "Getting nodes for Python: 494 files\n",
      "Getting nodes for YAML: 9 files\n",
      "Getting nodes for Markdown: 2 files\n",
      "Getting nodes for CSS: 38 files\n",
      "Getting nodes for JavaScript: 78 files\n"
     ]
    },
    {
     "name": "stderr",
     "output_type": "stream",
     "text": [
      "/Users/joey/Library/Caches/pypoetry/virtualenvs/coding-assistant-JkLEjshP-py3.12/lib/python3.12/site-packages/tree_sitter/__init__.py:36: FutureWarning: Language(path, name) is deprecated. Use Language(ptr, name) instead.\n",
      "  warn(\"{} is deprecated. Use {} instead.\".format(old, new), FutureWarning)\n"
     ]
    },
    {
     "name": "stdout",
     "output_type": "stream",
     "text": [
      "Getting nodes for HTML: 131 files\n",
      "Getting nodes for JSON: 10 files\n",
      "9718\n"
     ]
    }
   ],
   "source": [
    "from libraries.llama_helpers.code_splitter import apply_code_splitters, get_language_variable_code_splitters\n",
    "\n",
    "code_splitters = get_language_variable_code_splitters(language_map.keys())\n",
    "\n",
    "nodes = apply_code_splitters(code_splitters, language_map)\n",
    "print(len(nodes))"
   ]
  },
  {
   "cell_type": "code",
   "execution_count": 5,
   "metadata": {},
   "outputs": [
    {
     "name": "stdout",
     "output_type": "stream",
     "text": [
      "========== Printing node 0\n",
      "\n",
      "dir_names=\"\"\n",
      "for i in $(ls -d */);\n",
      "    do\n",
      "        if [ -f \"$i/freeze.txt\" ]\n",
      "        then\n",
      "            if [ `cat \"$i/freeze.txt\" | grep \"^migrated$\"` ]\n",
      "            then\n",
      "                dir_names=\"$dir_names${i%?} \"\n",
      "            fi\n",
      "        fi\n",
      "    done;\n",
      "echo $dir_names\n",
      "\n",
      "\n",
      "========== Printing node 1500\n",
      "\n",
      "class ProjectsStaffing(ListModelMixin,\n",
      "                       generics.GenericAPIView):\n",
      "    serializer_class = ProjectStaffingSerializer\n",
      "\n",
      "    def get_queryset(self):\n",
      "        return ProjectStaffing.objects.filter(id=self.kwargs['pk'])\n",
      "\n",
      "    def get(self, request, *args, **kwargs):\n",
      "        return self.list(request, *args, **kwargs)\n",
      "\n",
      "\n",
      "class ProjectDetails(RetrieveUpdateAPIView):\n",
      "    queryset = Project.objects.all()\n",
      "    serializer_class = project_serializer.ProjectSerializer\n",
      "    permission_classes = [ResourceOwnerAccessPermission]\n",
      "\n",
      "\n",
      "class ReturnAllCountryOffice(GenericViewSet, ListModelMixin):\n",
      "    queryset = CountryOffice.objects.all().order_by('id')\n",
      "    serializer_class = CountryOfficeSerializer\n",
      "\n",
      "\n",
      "class ReturnCurrentUser(generic.View):\n",
      "\n",
      "    def get(self, request):\n",
      "        authTokenJWT = request.COOKIES.get('authToken')\n",
      "        headers = {'authToken': authTokenJWT}\n",
      "        result = jwt.decode(\n",
      "            authTokenJWT, key=TOKEN_VALIDATE_SECRET, algorithms=['HS256'])\n",
      "        if \"error\" in result:\n",
      "            return JsonResponse({\"Error\": \"UnAuthorized\"}, status=401)\n",
      "        q_set = sorted(Member.objects.filter(\n",
      "            work_email=result['user_emailid']), key=lambda member: member.date_of_joining)[-1]\n",
      "        serialized = MemberSerializer(q_set).data\n",
      "\n",
      "        base_cfg = apps.get_app_config('base')\n",
      "        is_admin = base_cfg.is_admin(request.user)\n",
      "        serialized['is_admin'] = is_admin\n",
      "\n",
      "        return JsonResponse(data=serialized, safe=False, status=200)\n"
     ]
    }
   ],
   "source": [
    "# Check nodes\n",
    "print(\"========== Printing node 0\\n\")\n",
    "print(nodes[0])\n",
    "\n",
    "print(\"\\n\\n========== Printing node 1500\\n\")\n",
    "print(nodes[1500])"
   ]
  },
  {
   "cell_type": "code",
   "execution_count": null,
   "metadata": {},
   "outputs": [
    {
     "name": "stdout",
     "output_type": "stream",
     "text": [
      "Loading... 36.20086437538588%%%%"
     ]
    }
   ],
   "source": [
    "import ollama\n",
    "import weaviate\n",
    "import weaviate.classes.config as wc\n",
    "import weaviate.classes as wvc\n",
    "import sys\n",
    "from libraries.embeddings import gen_embeddings\n",
    "from libraries.weaviate_client import create_or_get_collection, apply_embeddings, local_client\n",
    "\n",
    "embedding_model = \"nomic-embed-text\"\n",
    "\n",
    "client = local_client()\n",
    "collection = create_or_get_collection(\"test\")\n",
    "\n",
    "embeddings = apply_embeddings(gen_embeddings, embedding_model, nodes)\n",
    "\n"
   ]
  },
  {
   "cell_type": "code",
   "execution_count": null,
   "metadata": {},
   "outputs": [],
   "source": [
    "print(client.is_ready())\n",
    "print(client.is_connected())\n",
    "\n",
    "res = collection.data.insert_many(embeddings)\n"
   ]
  },
  {
   "cell_type": "code",
   "execution_count": null,
   "metadata": {},
   "outputs": [],
   "source": [
    "retrieved_docs = collection.query.near_vector(\n",
    "    near_vector=gen_embeddings('''How can I get all active members''', embedding_model),\n",
    "    limit=15,\n",
    "    return_metadata=wvc.query.MetadataQuery(certainty=True)\n",
    ")\n",
    "\n",
    "retrieved_messages = [o.properties['message'] for o in retrieved_docs.objects]\n",
    "\n",
    "print(retrieved_messages[1])"
   ]
  },
  {
   "cell_type": "code",
   "execution_count": null,
   "metadata": {},
   "outputs": [],
   "source": []
  },
  {
   "cell_type": "code",
   "execution_count": null,
   "metadata": {},
   "outputs": [],
   "source": []
  },
  {
   "cell_type": "code",
   "execution_count": null,
   "metadata": {},
   "outputs": [],
   "source": []
  }
 ],
 "metadata": {
  "kernelspec": {
   "display_name": "Python 3 (ipykernel)",
   "language": "python",
   "name": "python3"
  },
  "language_info": {
   "codemirror_mode": {
    "name": "ipython",
    "version": 3
   },
   "file_extension": ".py",
   "mimetype": "text/x-python",
   "name": "python",
   "nbconvert_exporter": "python",
   "pygments_lexer": "ipython3",
   "version": "3.12.4"
  }
 },
 "nbformat": 4,
 "nbformat_minor": 4
}
